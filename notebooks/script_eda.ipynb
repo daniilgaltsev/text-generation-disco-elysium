{
 "metadata": {
  "language_info": {
   "codemirror_mode": {
    "name": "ipython",
    "version": 3
   },
   "file_extension": ".py",
   "mimetype": "text/x-python",
   "name": "python",
   "nbconvert_exporter": "python",
   "pygments_lexer": "ipython3",
   "version": "3.7.7-final"
  },
  "orig_nbformat": 2,
  "kernelspec": {
   "name": "python3",
   "display_name": "Python 3",
   "language": "python"
  }
 },
 "nbformat": 4,
 "nbformat_minor": 2,
 "cells": [
  {
   "cell_type": "code",
   "execution_count": 8,
   "metadata": {},
   "outputs": [],
   "source": [
    "fd = open('../script_extractor/texts_extracted.txt')\n",
    "extracted_script = fd.read()\n",
    "fd.close()"
   ]
  },
  {
   "cell_type": "code",
   "execution_count": 16,
   "metadata": {},
   "outputs": [],
   "source": [
    "lines = extracted_script.split('\\n')\n",
    "line_lengths = [len(line) for line in lines]\n",
    "max_length = max(line_lengths)\n",
    "words = extracted_script.split()"
   ]
  },
  {
   "cell_type": "code",
   "execution_count": 17,
   "metadata": {},
   "outputs": [
    {
     "output_type": "stream",
     "name": "stdout",
     "text": [
      "Number of lines: 58893,\nnumber of words: 865407,\nnumber of chars: 4938502,\nlongest line: 4053\n"
     ]
    }
   ],
   "source": [
    "print(\"Number of lines: {},\\nnumber of words: {},\\nnumber of chars: {},\\nlongest line: {}\".format(\n",
    "    len(lines), len(words), len(extracted_script), max_length\n",
    "))"
   ]
  }
 ]
}
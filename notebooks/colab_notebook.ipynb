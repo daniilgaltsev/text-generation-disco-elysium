{
 "metadata": {
  "language_info": {
   "codemirror_mode": {
    "name": "ipython",
    "version": 3
   },
   "file_extension": ".py",
   "mimetype": "text/x-python",
   "name": "python",
   "nbconvert_exporter": "python",
   "pygments_lexer": "ipython3",
   "version": 3
  },
  "orig_nbformat": 2
 },
 "nbformat": 4,
 "nbformat_minor": 2,
 "cells": [
  {
   "source": [
    "First, we need to download the code."
   ],
   "cell_type": "markdown",
   "metadata": {}
  },
  {
   "cell_type": "code",
   "execution_count": null,
   "metadata": {},
   "outputs": [],
   "source": [
    "!git clone https://github.com/daniilgaltsev/text-generation-disco-elysium.git\n",
    "%cd text-generation-disco-elysium"
   ]
  },
  {
   "source": [
    "Next, we need to install dependencies. I found it is easier to directy download using pip in Colab."
   ],
   "cell_type": "markdown",
   "metadata": {}
  },
  {
   "cell_type": "code",
   "execution_count": null,
   "metadata": {},
   "outputs": [],
   "source": [
    "!pip install -q pytorch-lightning > /dev/null\n",
    "!pip install -q transformers > /dev/null"
   ]
  },
  {
   "source": [
    "Finally, we can finetune, and for me it took ~45 minutes with these hyperparameters (if you did not get the 15gb GPU, you need to lower the batch size)."
   ],
   "cell_type": "markdown",
   "metadata": {}
  },
  {
   "cell_type": "code",
   "execution_count": null,
   "metadata": {},
   "outputs": [],
   "source": [
    "!python -m text_generation.main -f --gpus=1 --batch_size=64 --num_workers=0"
   ]
  },
  {
   "source": [
    "After that, we can optionally zip the resulting files and download them on the local machine or to some cloud storage."
   ],
   "cell_type": "markdown",
   "metadata": {}
  },
  {
   "cell_type": "code",
   "execution_count": null,
   "metadata": {},
   "outputs": [],
   "source": [
    "!cd text_generation && zip -r /content/finetuned weights/ -x '*.gitkeep'"
   ]
  }
 ]
}